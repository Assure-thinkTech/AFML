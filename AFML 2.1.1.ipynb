{
 "cells": [
  {
   "cell_type": "markdown",
   "metadata": {},
   "source": [
    "# Dollar Bar Data\n",
    "\n",
    "In view of absence of open-source quant library and other resources. This notebook will cover specifically only how to restructure your HFT data into dollar bar data sample.\n",
    "\n",
    "Using such data structure could generate good market signal for different plausible quant strategies.\n",
    "\n",
    "In order to appreciate this technique, I highly recommend you to read the below research.\n",
    "\n",
    "[Volume Clock SSRN](https://papers.ssrn.com/sol3/papers.cfm?abstract_id=2034858)\n",
    "\n",
    "[Free HFT data generator](https://gist.github.com/boyboi86/5e00faf48f60abfdbe838fbdee269471)\n",
    "\n",
    "Please remember to save this as your sample data to csv format, otherwise, your result may not be consistant. (This sample data can get you started for 1st 5 chapters)\n",
    "\n",
    "It is not easy to be motivated because everything within the AFML textbook are considered advance techniques which combines Statistics/ Finance/ Behavioral Economics. Moreover, all the codes I used were written mostly from scratch (proprietary) plus the idea of maintaining a open-source quant library is daunting especially when I am doing everything alone.\n",
    "\n",
    "I hope by sharing some snippet of codes would provide some assistance to appreciate the mathematical motivation behind what Dr Marcos' work, but more importantly assist in your learning progress.\n",
    "\n",
    "Contact: boyboi86@gmail.com"
   ]
  },
  {
   "cell_type": "code",
   "execution_count": 1,
   "metadata": {},
   "outputs": [
    {
     "name": "stdout",
     "output_type": "stream",
     "text": [
      "Num of CPU core:  4\n",
      "Machine info:  Windows-10-10.0.18362-SP0\n",
      "Python 3.7.4 (default, Aug  9 2019, 18:34:13) [MSC v.1915 64 bit (AMD64)]\n",
      "Numpy 1.18.5\n",
      "Pandas 1.0.4\n"
     ]
    }
   ],
   "source": [
    "import numpy as np\n",
    "import pandas as pd\n",
    "import matplotlib.pyplot as plt\n",
    "import research as rs\n",
    "\n",
    "%matplotlib inline\n",
    "\n",
    "#pls take note of version\n",
    "#numpy 1.17.3\n",
    "#pandas 1.0.3\n",
    "#sklearn 0.21.3"
   ]
  },
  {
   "cell_type": "code",
   "execution_count": 2,
   "metadata": {},
   "outputs": [
    {
     "data": {
      "image/png": "[encoded data removed]",
      "text/plain": [
       "<Figure size 432x288 with 1 Axes>"
      ]
     },
     "metadata": {
      "needs_background": "light"
     },
     "output_type": "display_data"
    }
   ],
   "source": [
    "data = rs.create_price_data()"
   ]
  },
  {
   "cell_type": "markdown",
   "metadata": {},
   "source": [
    "**Note**\n",
    "\n",
    "The above data was generated based on the function I created.\n",
    "\n",
    "The gist link is provided above.\n",
    "\n",
    "Different types of generators are used for different cases studies/ research so make sure you choose the right one.\n",
    "\n",
    "**Note**\n",
    "\n",
    "Remember to save the generated data to csv format so that your answers can be consistent.\n",
    "\n",
    "At the same time, you can run the function multiple times to get a time-series price that are closer to S&P futures price.\n",
    "\n",
    "It's possible. I tried before."
   ]
  },
  {
   "cell_type": "code",
   "execution_count": 3,
   "metadata": {},
   "outputs": [
    {
     "data": {
      "text/html": [
       "<div>\n",
       "<style scoped>\n",
       "    .dataframe tbody tr th:only-of-type {\n",
       "        vertical-align: middle;\n",
       "    }\n",
       "\n",
       "    .dataframe tbody tr th {\n",
       "        vertical-align: top;\n",
       "    }\n",
       "\n",
       "    .dataframe thead th {\n",
       "        text-align: right;\n",
       "    }\n",
       "</style>\n",
       "<table border=\"1\" class=\"dataframe\">\n",
       "  <thead>\n",
       "    <tr style=\"text-align: right;\">\n",
       "      <th></th>\n",
       "      <th>close</th>\n",
       "    </tr>\n",
       "  </thead>\n",
       "  <tbody>\n",
       "    <tr>\n",
       "      <th>2018-09-19 07:45:40.859623</th>\n",
       "      <td>1000.000000</td>\n",
       "    </tr>\n",
       "    <tr>\n",
       "      <th>2018-09-19 07:46:40.859623</th>\n",
       "      <td>999.717293</td>\n",
       "    </tr>\n",
       "    <tr>\n",
       "      <th>2018-09-19 07:47:40.859623</th>\n",
       "      <td>1000.714961</td>\n",
       "    </tr>\n",
       "    <tr>\n",
       "      <th>2018-09-19 07:48:40.859623</th>\n",
       "      <td>1001.134444</td>\n",
       "    </tr>\n",
       "    <tr>\n",
       "      <th>2018-09-19 07:49:40.859623</th>\n",
       "      <td>1000.012782</td>\n",
       "    </tr>\n",
       "    <tr>\n",
       "      <th>...</th>\n",
       "      <td>...</td>\n",
       "    </tr>\n",
       "    <tr>\n",
       "      <th>2020-08-13 18:20:40.859623</th>\n",
       "      <td>898.664142</td>\n",
       "    </tr>\n",
       "    <tr>\n",
       "      <th>2020-08-13 18:21:40.859623</th>\n",
       "      <td>899.497674</td>\n",
       "    </tr>\n",
       "    <tr>\n",
       "      <th>2020-08-13 18:22:40.859623</th>\n",
       "      <td>900.466753</td>\n",
       "    </tr>\n",
       "    <tr>\n",
       "      <th>2020-08-13 18:23:40.859623</th>\n",
       "      <td>900.169978</td>\n",
       "    </tr>\n",
       "    <tr>\n",
       "      <th>2020-08-13 18:24:40.859623</th>\n",
       "      <td>900.663726</td>\n",
       "    </tr>\n",
       "  </tbody>\n",
       "</table>\n",
       "<p>1000000 rows × 1 columns</p>\n",
       "</div>"
      ],
      "text/plain": [
       "                                  close\n",
       "2018-09-19 07:45:40.859623  1000.000000\n",
       "2018-09-19 07:46:40.859623   999.717293\n",
       "2018-09-19 07:47:40.859623  1000.714961\n",
       "2018-09-19 07:48:40.859623  1001.134444\n",
       "2018-09-19 07:49:40.859623  1000.012782\n",
       "...                                 ...\n",
       "2020-08-13 18:20:40.859623   898.664142\n",
       "2020-08-13 18:21:40.859623   899.497674\n",
       "2020-08-13 18:22:40.859623   900.466753\n",
       "2020-08-13 18:23:40.859623   900.169978\n",
       "2020-08-13 18:24:40.859623   900.663726\n",
       "\n",
       "[1000000 rows x 1 columns]"
      ]
     },
     "execution_count": 3,
     "metadata": {},
     "output_type": "execute_result"
    }
   ],
   "source": [
    "data # 2 years worth of data on per min basis"
   ]
  },
  {
   "cell_type": "markdown",
   "metadata": {},
   "source": [
    "**Note**\n",
    "\n",
    "For the purpose of demostration and simplicity, we will assume the \"close\" price is actually total dollar-volume transacted.\n",
    "\n",
    "This is an important assumption!\n",
    "\n",
    "**Note**\n",
    "\n",
    "The whole idea is that whenever the transacted volume deviates from normal/ expected 10% of daily transacted dollar-volume (Refer to research paper provided). This resampled data will quickly capture such abnormality.\n",
    "\n",
    "If transaction dollar-volume exceeds expectation (abnormal market behavior), it would reflect in the investors/ traders pouring/ unloading a particular asset hence driving up the prices and vice versa.\n",
    "\n",
    "**Note**\n",
    "\n",
    "Try to understand the code snippet then try to read the mathematical equation again. It would make more sense."
   ]
  },
  {
   "cell_type": "code",
   "execution_count": 4,
   "metadata": {},
   "outputs": [],
   "source": [
    "def dd_bars(data: pd.DataFrame, m: int = None):\n",
    "    '''\n",
    "    params: data => dataframe of close series\n",
    "    params: column => column of data sample; vol, dollar etc\n",
    "    '''    \n",
    "    ts, idx = 0, []\n",
    "    for i, x in enumerate(data):\n",
    "        ts += x\n",
    "        if ts >= m:\n",
    "            ts = 0; idx.append(i)\n",
    "            continue\n",
    "    return data.iloc[idx]"
   ]
  },
  {
   "cell_type": "markdown",
   "metadata": {},
   "source": [
    "**Note**\n",
    "\n",
    "The below is the outcome after we resample the data.\n"
   ]
  },
  {
   "cell_type": "code",
   "execution_count": 5,
   "metadata": {},
   "outputs": [
    {
     "data": {
      "text/plain": [
       "2018-09-20 00:10:40.859623    1019.662816\n",
       "2018-09-20 16:52:40.859623     987.376001\n",
       "2018-09-21 09:44:40.859623     979.414106\n",
       "2018-09-22 03:33:40.859623     915.445105\n",
       "2018-09-22 22:04:40.859623     933.439436\n",
       "                                 ...     \n",
       "2020-08-10 10:26:40.859623     905.042048\n",
       "2020-08-11 04:51:40.859623     935.796206\n",
       "2020-08-11 23:19:40.859623     893.979698\n",
       "2020-08-12 18:31:40.859623     879.983382\n",
       "2020-08-13 13:06:40.859623     902.621534\n",
       "Name: close, Length: 966, dtype: float64"
      ]
     },
     "execution_count": 5,
     "metadata": {},
     "output_type": "execute_result"
    }
   ],
   "source": [
    "tb = dd_bars(data = data.close, m = 1000000) # assuming 10% of daily transacted volme is 1,000,000\n",
    "tb"
   ]
  },
  {
   "cell_type": "markdown",
   "metadata": {},
   "source": [
    "**Note**\n",
    "\n",
    "If your realized by now, total data points generated was different after we resample them.\n",
    "\n",
    "Based on per minute basis, if any abnormal market price bahvior was detected, it would have produce a \"buy\"/ \"sell\" signal depending on the type of investment factor (long/short)."
   ]
  },
  {
   "cell_type": "code",
   "execution_count": 6,
   "metadata": {},
   "outputs": [
    {
     "data": {
      "text/plain": [
       "<matplotlib.axes._subplots.AxesSubplot at 0x21746099f48>"
      ]
     },
     "execution_count": 6,
     "metadata": {},
     "output_type": "execute_result"
    },
    {
     "data": {
      "image/png": "[encoded data removed]",
      "text/plain": [
       "<Figure size 432x288 with 1 Axes>"
      ]
     },
     "metadata": {
      "needs_background": "light"
     },
     "output_type": "display_data"
    }
   ],
   "source": [
    "tb.plot()"
   ]
  },
  {
   "cell_type": "markdown",
   "metadata": {},
   "source": [
    "**Note**\n",
    "\n",
    "The code snippet is just to assist you to appreciate the mathematical motivation for this technique. \n",
    "\n",
    "However, more could be done to improve this algorithm. Feel free to customize them.\n",
    "\n",
    "**Note**\n",
    "\n",
    "This algorithm although widely used in index futures/ commodities derivatives is applicable to crypto assets.\n",
    "\n",
    "In fact, I believe it is well-adapted to crypto-assets since it factors in alot of behaviorial economics element."
   ]
  }
 ],
 "metadata": {
  "kernelspec": {
   "display_name": "Python 3",
   "language": "python",
   "name": "python3"
  },
  "language_info": {
   "codemirror_mode": {
    "name": "ipython",
    "version": 3
   },
   "file_extension": ".py",
   "mimetype": "text/x-python",
   "name": "python",
   "nbconvert_exporter": "python",
   "pygments_lexer": "ipython3",
   "version": "3.7.4"
  }
 },
 "nbformat": 4,
 "nbformat_minor": 2
}
